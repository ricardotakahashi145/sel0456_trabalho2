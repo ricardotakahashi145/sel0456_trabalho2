{
  "nbformat": 4,
  "nbformat_minor": 0,
  "metadata": {
    "colab": {
      "provenance": [],
      "authorship_tag": "ABX9TyOe/88kVyda4ygnbZ8usS/1",
      "include_colab_link": true
    },
    "kernelspec": {
      "name": "python3",
      "display_name": "Python 3"
    },
    "language_info": {
      "name": "python"
    }
  },
  "cells": [
    {
      "cell_type": "markdown",
      "metadata": {
        "id": "view-in-github",
        "colab_type": "text"
      },
      "source": [
        "<a href=\"https://colab.research.google.com/github/ricardotakahashi145/sel0456_trabalho2/blob/main/Trabalho_2_T%C3%A9cnicas_de_Desenvolvimento_de_Software_Livre.ipynb\" target=\"_parent\"><img src=\"https://colab.research.google.com/assets/colab-badge.svg\" alt=\"Open In Colab\"/></a>"
      ]
    },
    {
      "cell_type": "markdown",
      "source": [
        "###SEL0456 - Técnicas de Desenvolvimento de Software Livre\n",
        "Ricardo Yudi Takahashi - 11831297\n",
        "\n",
        "Código para controle de acesso de usuário, com validação de senha utilizando hashing.\n",
        "\n",
        "Para iniciar, será utilizada a biblioteca Hashlib.\n",
        "    "
      ],
      "metadata": {
        "id": "yih2nVDedj3T"
      }
    },
    {
      "cell_type": "code",
      "source": [
        "import hashlib"
      ],
      "metadata": {
        "id": "bOJ8ZVZ8dike"
      },
      "execution_count": 15,
      "outputs": []
    },
    {
      "cell_type": "code",
      "source": [
        "#criação da classe\n",
        "\n",
        "class User():\n",
        "    #armazenamento das instâncias\n",
        "    users = []\n",
        "    users_dict_password = {}\n",
        "    users_dict_level = {}\n",
        "\n",
        "    def __init__(self):\n",
        "        while True:\n",
        "            self.username = input('Qual o nome do usuário a cadastrar?')\n",
        "            if any(not c.isalnum() for c in self.username):\n",
        "                print('Não são permitidos caracteres especiais')\n",
        "                continue\n",
        "            self.password = hashlib.sha256(input('Qual será a senha?').encode('utf-8')).hexdigest()\n",
        "            self.level = 0 #0-membro / 1-moderador / 2-administrador // todos usuários começam em nível 0 de acesso\n",
        "            print('Usuário criado com sucesso!')\n",
        "            User.users.append(self)\n",
        "            User.users_dict_password[self.username] = self.password\n",
        "            User.users_dict_level[self.username] = self.level\n",
        "            break\n",
        "\n",
        "\n",
        "    #para se tornar um moderador\n",
        "    def be_mod(self):\n",
        "        if self.level>0:\n",
        "            print('Você já é moderador.')\n",
        "        else:\n",
        "            test_mod = input('Qual a senha para se tornar moderador?')\n",
        "            if test_mod == 'senha':\n",
        "                self.level=1\n",
        "                User.users_dict_level[self.username] = self.level\n",
        "                print('Você é um moderador.')\n",
        "            else:\n",
        "                print('Senha incorrreta.')\n",
        "\n",
        "    #para se tornar um administrador\n",
        "    def be_adm(self):\n",
        "        if self.level==0:\n",
        "            print('Você precisa ser moderador para acessar essa página')\n",
        "        elif self.level==2:\n",
        "            print('Você já é administrador.')\n",
        "        else:\n",
        "            test_adm = input('Qual a senha para se tornar administrador?')\n",
        "            if test_adm == 'José Roberto':\n",
        "                self.level=2\n",
        "                User.users_dict_level[self.username] = self.level\n",
        "                print('Você é um administrador.')\n",
        "            else:\n",
        "                print('Senha incorreta.')\n",
        "\n",
        "    #para logar, com entrada de login e senha\n",
        "    def login():\n",
        "        while True:\n",
        "            test_username = input('Qual o seu nome de usuário?')\n",
        "            if test_username not in User.users_dict_password:\n",
        "                print(\"Você não tem cadastro aqui.\")\n",
        "            else:\n",
        "                test_password = input('Qual a sua senha?')\n",
        "                if(hashlib.sha256(test_password.encode('utf-8'))).hexdigest()==User.users_dict_password[test_username]:\n",
        "                    print('Acesso garantido!')\n",
        "                    print('O seu nível de acesso é', User.users_dict_level[test_username])\n",
        "                    break\n",
        "                else:\n",
        "                    print('Senha incorreta. Tente novamente.')\n",
        "\n",
        "\n"
      ],
      "metadata": {
        "id": "hxu6WOvsd5l-"
      },
      "execution_count": 16,
      "outputs": []
    },
    {
      "cell_type": "markdown",
      "source": [
        "Para cadastro de um novo usuário, basta instanciar a classe. Você deverá criar um nome de usuário que não contenha caracteres especiais, para então escolher a sua senha.\n",
        "\n",
        "Todos os novos usuários são membros."
      ],
      "metadata": {
        "id": "fDoa8fxG2Wg0"
      }
    },
    {
      "cell_type": "code",
      "source": [
        "#para criar um usuário\n",
        "user1 = User()\n"
      ],
      "metadata": {
        "colab": {
          "base_uri": "https://localhost:8080/"
        },
        "id": "ZJVnNEYdEzuW",
        "outputId": "1d7991c1-8811-4c24-d2b1-1c552ba622e3"
      },
      "execution_count": 17,
      "outputs": [
        {
          "output_type": "stream",
          "name": "stdout",
          "text": [
            "Qual o nome do usuário a cadastrar?ricardo@@\n",
            "Não são permitidos caracteres especiais\n",
            "Qual o nome do usuário a cadastrar?ricardo\n",
            "Qual será a senha?takahashi\n",
            "Usuário criado com sucesso!\n"
          ]
        }
      ]
    },
    {
      "cell_type": "markdown",
      "source": [
        "O nível de acesso varia entre Membro (0), Moderador (1) e Administrador (2), de modo que há uma senha para cada tipo de acesso.\n",
        "\n",
        "Você não pode virar Administrador caso seja membro.\n"
      ],
      "metadata": {
        "id": "D67XShyj2jfI"
      }
    },
    {
      "cell_type": "code",
      "source": [
        "user1.be_adm()"
      ],
      "metadata": {
        "colab": {
          "base_uri": "https://localhost:8080/"
        },
        "id": "O2cWj3Th1jzb",
        "outputId": "f7f0edbb-4625-4d49-91d3-2e3adba05737"
      },
      "execution_count": 18,
      "outputs": [
        {
          "output_type": "stream",
          "name": "stdout",
          "text": [
            "Você precisa ser moderador para acessar essa página\n"
          ]
        }
      ]
    },
    {
      "cell_type": "markdown",
      "source": [
        "Para logar, basta chamar User.login(), que pedirá, primeiro, o nome de usuário. Como as instâncias são armazenadas em dicionários, é possível conferir se a senha está correta ou não.\n",
        "\n",
        "Lembre que não está sendo armazenada a senha, mas apenas seu hashing, no qual foi utilizado o algoritmo sha256.\n",
        "\n",
        "Enquanto você não inserir um usuário e senha válido, o programa continua pedindo seu acesso."
      ],
      "metadata": {
        "id": "DEhje-9H0_b2"
      }
    },
    {
      "cell_type": "code",
      "source": [
        "#para logar um usuário\n",
        "User.login()"
      ],
      "metadata": {
        "colab": {
          "base_uri": "https://localhost:8080/"
        },
        "id": "ohssx2YO2SUZ",
        "outputId": "19ef1a3b-ca48-4d38-a9f2-82e39773404a"
      },
      "execution_count": 19,
      "outputs": [
        {
          "output_type": "stream",
          "name": "stdout",
          "text": [
            "Qual o seu nome de usuário?ricardo\n",
            "Qual a sua senha?aaaa\n",
            "Senha incorreta. Tente novamente.\n",
            "Qual o seu nome de usuário?ap\n",
            "Você não tem cadastro aqui.\n",
            "Qual o seu nome de usuário?ricardo\n",
            "Qual a sua senha?takahashi\n",
            "Acesso garantido!\n",
            "O seu nível de acesso é 0\n"
          ]
        }
      ]
    }
  ]
}